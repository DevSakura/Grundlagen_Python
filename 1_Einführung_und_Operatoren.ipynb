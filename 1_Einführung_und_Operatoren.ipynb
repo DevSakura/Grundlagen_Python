{
 "cells": [
  {
   "cell_type": "code",
   "execution_count": null,
   "metadata": {},
   "outputs": [],
   "source": [
    "# Python Version:\n",
    "import platform\n",
    "print(platform.python_version())"
   ]
  },
  {
   "cell_type": "markdown",
   "metadata": {},
   "source": [
    "# 1. Einführung und Operatoren"
   ]
  },
  {
   "cell_type": "markdown",
   "metadata": {},
   "source": [
    "## Python:\n",
    "\n",
    "* leicht zu erlernen\n",
    "* kein Kompilieren notwendig\n",
    "* vollständig opensource\n",
    "* große Anzahl an Tutorials\n",
    "* komplett objektorientiert\n",
    "* mittlerweile in allen Bereichen eingesetzt\n",
    "    * Embedded\n",
    "    * Webentwicklung\n",
    "    * Data Science"
   ]
  },
  {
   "cell_type": "markdown",
   "metadata": {},
   "source": [
    "### Der erste Befehl:"
   ]
  },
  {
   "cell_type": "code",
   "execution_count": null,
   "metadata": {},
   "outputs": [],
   "source": [
    "print(\"Hello World\")"
   ]
  },
  {
   "cell_type": "markdown",
   "metadata": {},
   "source": [
    "### Keine explizite Definition von Datentypen notwendig:\n",
    "\n",
    "* __=__&emsp;&emsp;&emsp;Klassische Zuweisungsoperator\n",
    "* __?__&emsp;&emsp;&emsp;Lassen sich Variablen inspizieren\n",
    "* Variablennamen sind fast frei wählbar"
   ]
  },
  {
   "cell_type": "code",
   "execution_count": null,
   "metadata": {},
   "outputs": [],
   "source": [
    "a = 7\n",
    "a"
   ]
  },
  {
   "cell_type": "code",
   "execution_count": null,
   "metadata": {},
   "outputs": [],
   "source": [
    "a?"
   ]
  },
  {
   "cell_type": "code",
   "execution_count": null,
   "metadata": {},
   "outputs": [],
   "source": [
    "b = 'Wort'\n",
    "b"
   ]
  },
  {
   "cell_type": "code",
   "execution_count": null,
   "metadata": {},
   "outputs": [],
   "source": [
    "b?"
   ]
  },
  {
   "cell_type": "code",
   "execution_count": null,
   "metadata": {},
   "outputs": [],
   "source": [
    "c = 1.543434\n",
    "c"
   ]
  },
  {
   "cell_type": "code",
   "execution_count": null,
   "metadata": {},
   "outputs": [],
   "source": [
    "c?"
   ]
  },
  {
   "cell_type": "markdown",
   "metadata": {},
   "source": [
    "## Arithmetische Operatoren:\n",
    "* <b>\\+</b>&emsp;&emsp;&emsp;(Addition)\n",
    "* <b>\\-</b>&emsp;&emsp;&emsp;(Subtraktion)\n",
    "* <b>\\*</b>&emsp;&emsp;&emsp;(Multiplikation)\n",
    "* <b>/</b>&emsp;&emsp;&emsp;(Division)\n",
    "* <b>%</b>&emsp;&emsp;&emsp;(Modulo)\n",
    "* <b>\\*\\*</b>&emsp;&emsp;&emsp;(Potenz, z. B.: a\\*\\*b=a hoch b)"
   ]
  },
  {
   "cell_type": "code",
   "execution_count": null,
   "metadata": {},
   "outputs": [],
   "source": [
    "a = 4\n",
    "b = 3\n",
    "c = a"
   ]
  },
  {
   "cell_type": "code",
   "execution_count": null,
   "metadata": {},
   "outputs": [],
   "source": [
    "Summe = a + b + c\n",
    "Summe"
   ]
  },
  {
   "cell_type": "code",
   "execution_count": null,
   "metadata": {},
   "outputs": [],
   "source": [
    "Differenz = a - b\n",
    "Differenz"
   ]
  },
  {
   "cell_type": "code",
   "execution_count": null,
   "metadata": {},
   "outputs": [],
   "source": [
    "Produkt = a * b\n",
    "Produkt"
   ]
  },
  {
   "cell_type": "code",
   "execution_count": null,
   "metadata": {},
   "outputs": [],
   "source": [
    "Quotient = a / b\n",
    "Quotient"
   ]
  },
  {
   "cell_type": "code",
   "execution_count": null,
   "metadata": {},
   "outputs": [],
   "source": [
    "Rest = a % b\n",
    "Rest"
   ]
  },
  {
   "cell_type": "code",
   "execution_count": null,
   "metadata": {},
   "outputs": [],
   "source": [
    "Potenzwert = a ** b\n",
    "Potenzwert"
   ]
  },
  {
   "cell_type": "markdown",
   "metadata": {},
   "source": [
    "## Zuweisungsoperatoren\n",
    "\n",
    "* <b>=</b>&emsp;&emsp;&emsp;Klassische Zuweisung\n",
    "* <b>+=</b>&emsp;&emsp;&emsp;(äquivalent zu a = a + b)\n",
    "* <b>-=</b>&emsp;&emsp;&emsp;(äquivalent zu a = a - b)\n",
    "* <b>*=</b>&emsp;&emsp;&emsp;(äquivalent zu a = a * b)\n",
    "* <b>/=</b>&emsp;&emsp;&emsp;(äquivalent zu a = a / b)\n",
    "* <b>%=</b>&emsp;&emsp;&emsp;(äquivalent zu a = a % b)\n",
    "* <b>&#42;&#42;=</b>&emsp;&emsp;&emsp;(äquivalent zu a = a&#42;&#42;b)"
   ]
  },
  {
   "cell_type": "code",
   "execution_count": null,
   "metadata": {},
   "outputs": [],
   "source": [
    "a = 2\n",
    "b = 7\n",
    "c = 2"
   ]
  },
  {
   "cell_type": "code",
   "execution_count": null,
   "metadata": {},
   "outputs": [],
   "source": [
    "a += b\n",
    "a"
   ]
  },
  {
   "cell_type": "code",
   "execution_count": null,
   "metadata": {},
   "outputs": [],
   "source": [
    "a -= b\n",
    "a"
   ]
  },
  {
   "cell_type": "code",
   "execution_count": null,
   "metadata": {},
   "outputs": [],
   "source": [
    "a *= b\n",
    "a"
   ]
  },
  {
   "cell_type": "code",
   "execution_count": null,
   "metadata": {},
   "outputs": [],
   "source": [
    "a /= b\n",
    "a"
   ]
  },
  {
   "cell_type": "code",
   "execution_count": null,
   "metadata": {},
   "outputs": [],
   "source": [
    "b %= c\n",
    "b"
   ]
  },
  {
   "cell_type": "code",
   "execution_count": null,
   "metadata": {},
   "outputs": [],
   "source": [
    "a **= c\n",
    "a"
   ]
  },
  {
   "cell_type": "markdown",
   "metadata": {},
   "source": [
    "## Vergleichsoperatoren\n",
    "\n",
    "* <b> \\< </b>&emsp;&emsp;&emsp;(kleiner als)\n",
    "* <b> \\<\\= </b>&emsp;&emsp;(kleiner gleich)\n",
    "* <b> \\> </b>&emsp;&emsp;&emsp;(größer als)\n",
    "* <b> \\>\\= </b>&emsp;&emsp;(größer gleich)\n",
    "* <b> \\!\\= </b>&emsp;&emsp;(ungleich)\n",
    "* <b> \\=\\= </b>&emsp;&emsp;(gleich)"
   ]
  },
  {
   "cell_type": "code",
   "execution_count": null,
   "metadata": {},
   "outputs": [],
   "source": [
    "a = 4\n",
    "b = 3\n",
    "c = 4"
   ]
  },
  {
   "cell_type": "code",
   "execution_count": null,
   "metadata": {},
   "outputs": [],
   "source": [
    "a < b"
   ]
  },
  {
   "cell_type": "code",
   "execution_count": null,
   "metadata": {},
   "outputs": [],
   "source": [
    "a <= b"
   ]
  },
  {
   "cell_type": "code",
   "execution_count": null,
   "metadata": {},
   "outputs": [],
   "source": [
    "b < a"
   ]
  },
  {
   "cell_type": "code",
   "execution_count": null,
   "metadata": {},
   "outputs": [],
   "source": [
    "a > c"
   ]
  },
  {
   "cell_type": "code",
   "execution_count": null,
   "metadata": {},
   "outputs": [],
   "source": [
    "a >= c"
   ]
  },
  {
   "cell_type": "code",
   "execution_count": null,
   "metadata": {},
   "outputs": [],
   "source": [
    "a == c"
   ]
  },
  {
   "cell_type": "code",
   "execution_count": null,
   "metadata": {},
   "outputs": [],
   "source": [
    "a != c"
   ]
  },
  {
   "cell_type": "code",
   "execution_count": null,
   "metadata": {},
   "outputs": [],
   "source": [
    "a = 'hello'\n",
    "b = 'world'\n",
    "c = a"
   ]
  },
  {
   "cell_type": "code",
   "execution_count": null,
   "metadata": {},
   "outputs": [],
   "source": [
    "a == c"
   ]
  },
  {
   "cell_type": "code",
   "execution_count": null,
   "metadata": {},
   "outputs": [],
   "source": [
    "a != c"
   ]
  },
  {
   "cell_type": "code",
   "execution_count": null,
   "metadata": {},
   "outputs": [],
   "source": [
    "a == b"
   ]
  },
  {
   "cell_type": "code",
   "execution_count": null,
   "metadata": {},
   "outputs": [],
   "source": [
    "a < b"
   ]
  },
  {
   "cell_type": "markdown",
   "metadata": {},
   "source": [
    "## Logische Operatoren\n",
    "\n",
    "* <b> and </b>&emsp;&emsp;&emsp;(logisches Und)\n",
    "* <b> or </b>&emsp;&emsp;&emsp;&emsp;(logisches Oder)\n",
    "* <b> not </b>&emsp;&emsp;&emsp;(Invertieren)"
   ]
  },
  {
   "cell_type": "code",
   "execution_count": null,
   "metadata": {},
   "outputs": [],
   "source": [
    "a = 4\n",
    "b = 3\n",
    "c = 4"
   ]
  },
  {
   "cell_type": "code",
   "execution_count": null,
   "metadata": {},
   "outputs": [],
   "source": [
    "a == c and b < a"
   ]
  },
  {
   "cell_type": "code",
   "execution_count": null,
   "metadata": {},
   "outputs": [],
   "source": [
    "a == c and a < b"
   ]
  },
  {
   "cell_type": "code",
   "execution_count": null,
   "metadata": {},
   "outputs": [],
   "source": [
    "a == c or a < b"
   ]
  },
  {
   "cell_type": "code",
   "execution_count": null,
   "metadata": {},
   "outputs": [],
   "source": [
    "a != c or a < b"
   ]
  },
  {
   "cell_type": "code",
   "execution_count": null,
   "metadata": {},
   "outputs": [],
   "source": [
    "a == c and not b < a"
   ]
  },
  {
   "cell_type": "code",
   "execution_count": null,
   "metadata": {},
   "outputs": [],
   "source": [
    "not (a == c and a < b)"
   ]
  },
  {
   "cell_type": "code",
   "execution_count": null,
   "metadata": {},
   "outputs": [],
   "source": [
    "not a == c and a < b"
   ]
  },
  {
   "cell_type": "markdown",
   "metadata": {},
   "source": [
    "## Bitweise Operatoren\n",
    "\n",
    "* <b> & </b>&emsp;&emsp;&emsp;(bitweise Und)\n",
    "* <b> | </b>&emsp;&emsp;&emsp;(bitweise Oder)\n",
    "* <b> ^ </b>&emsp;&emsp;&emsp;(bitweise Entweder Oder)\n",
    "* <b> ~ </b>&emsp;&emsp;&emsp;(bitweise Invertieren)\n",
    "* <b> << </b>&emsp;&emsp;&emsp;(Bits nach links shiften)\n",
    "* <b> >> </b>&emsp;&emsp;&emsp;(Bits nach rechts shiften)"
   ]
  },
  {
   "cell_type": "markdown",
   "metadata": {},
   "source": [
    "#### Variable a: 60\n",
    "* 0011 1100 <br>\n",
    "* 2<sup>2</sup>+2<sup>3</sup>+2<sup>4</sup>+2<sup>5</sup><br>\n",
    "* 4+8+16+32 <br>\n",
    "\n",
    "\n",
    "#### Variable b: 13\n",
    "* 0000 1101 <br>\n",
    "* 2<sup>0</sup>+2<sup>2</sup>+2<sup>3</sup><br>\n",
    "* 1+4+8 <br>\n",
    "\n"
   ]
  },
  {
   "cell_type": "code",
   "execution_count": null,
   "metadata": {},
   "outputs": [],
   "source": [
    "a = 60\n",
    "b = 13"
   ]
  },
  {
   "cell_type": "markdown",
   "metadata": {},
   "source": [
    "#### <b> & </b> Operator:\n",
    "a : 0011 1100<br>\n",
    "b : 0000 1101<br>\n",
    "& : 0000 1100<br><br>\n",
    "2<sup>2</sup>+2<sup>3</sup> = 12"
   ]
  },
  {
   "cell_type": "code",
   "execution_count": null,
   "metadata": {},
   "outputs": [],
   "source": [
    "a & b"
   ]
  },
  {
   "cell_type": "markdown",
   "metadata": {},
   "source": [
    "#### <b> | </b>  Operator:\n",
    "a : 0011 1100<br>\n",
    "b : 0000 1101<br>\n",
    "| : 0011 1101<br><br>\n",
    "2<sup>0</sup>+2<sup>2</sup>+2<sup>3</sup>+2<sup>4</sup>+2<sup>5</sup> = 61"
   ]
  },
  {
   "cell_type": "code",
   "execution_count": null,
   "metadata": {},
   "outputs": [],
   "source": [
    "a | b"
   ]
  },
  {
   "cell_type": "markdown",
   "metadata": {},
   "source": [
    "#### <b> ^ </b> Operator:\n",
    "a : 0011 1100<br>\n",
    "b : 0000 1101<br>\n",
    "^ : 0011 0001<br><br>\n",
    "2<sup>0</sup>+2<sup>4</sup>+2<sup>5</sup> = 49"
   ]
  },
  {
   "cell_type": "code",
   "execution_count": null,
   "metadata": {},
   "outputs": [],
   "source": [
    "a ^ b"
   ]
  },
  {
   "cell_type": "markdown",
   "metadata": {},
   "source": [
    "#### <b> ~ </b> Operator:\n",
    "a : 0011 1100<br>\n",
    "~ : 1100 0011<br><br>\n",
    "\n",
    "1111 1111 1111 1111 1111 1111 1111 1111 1111 1111 1111 1111 1111 1111 1100 0011 = -61"
   ]
  },
  {
   "cell_type": "code",
   "execution_count": null,
   "metadata": {},
   "outputs": [],
   "source": [
    "~a"
   ]
  },
  {
   "cell_type": "markdown",
   "metadata": {},
   "source": [
    "#### <b> << </b> Operator:\n",
    "a  : 0011 1100<br>\n",
    "<< : 0111 1000<br><br>\n",
    "2<sup>3</sup>+2<sup>4</sup>+2<sup>5</sup>+2<sup>6</sup> = 120"
   ]
  },
  {
   "cell_type": "code",
   "execution_count": null,
   "metadata": {},
   "outputs": [],
   "source": [
    "a << 1"
   ]
  },
  {
   "cell_type": "markdown",
   "metadata": {},
   "source": [
    "#### <b> >> </b> Operator:\n",
    "a  : 0011 1100<br>\n",
    "/>/> : 0000 1111<br><br>\n",
    "2<sup>0</sup>+2<sup>1</sup>+2<sup>2</sup>+2<sup>3</sup> = 15"
   ]
  },
  {
   "cell_type": "code",
   "execution_count": null,
   "metadata": {},
   "outputs": [],
   "source": [
    "a >> 2"
   ]
  }
 ],
 "metadata": {
  "kernelspec": {
   "display_name": "Python 3",
   "language": "python",
   "name": "python3"
  },
  "language_info": {
   "codemirror_mode": {
    "name": "ipython",
    "version": 3
   },
   "file_extension": ".py",
   "mimetype": "text/x-python",
   "name": "python",
   "nbconvert_exporter": "python",
   "pygments_lexer": "ipython3",
   "version": "3.8.5"
  }
 },
 "nbformat": 4,
 "nbformat_minor": 4
}
